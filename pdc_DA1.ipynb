{
 "cells": [
  {
   "cell_type": "code",
   "execution_count": 1,
   "metadata": {},
   "outputs": [],
   "source": [
    "import pandas as pd\n",
    "import matplotlib.pyplot as plt\n",
    "import tensorflow as tf\n",
    "from tensorflow import keras\n",
    "from tensorflow.keras.layers import Dense\n",
    "import numpy as np\n",
    "import time\n",
    "\n",
    "data = pd.read_csv('solar_hourly_data_raw.csv', index_col=0)\n",
    "data.index = pd.to_datetime(data.index, format ='%Y%m%d:%H-%M')\n",
    "\n",
    "data = data.replace(0, np.NaN)\n",
    "\n",
    "data1 = data.resample('d')['Bi', 'Di', 'Ri', 'As', 'Tamb', 'W10'].mean()\n",
    "data1['EPV'] = data.resample('d')['EPV'].sum()\n",
    "\n",
    "data1 = data1.dropna()\n"
   ]
  },
  {
   "cell_type": "code",
   "execution_count": 2,
   "metadata": {},
   "outputs": [],
   "source": [
    "#splitting the data into X_train, X_test, y_train, y_test\n",
    "X_train = data1.sample(frac=0.8,random_state=0)\n",
    "X_test = data1.drop(X_train.index)\n",
    "\n",
    "train_stats = X_train.describe()\n",
    "train_stats.pop('EPV')\n",
    "train_stats = train_stats.transpose()\n",
    "\n",
    "y_train = X_train.pop('EPV')\n",
    "y_test = X_test.pop('EPV')\n",
    "\n",
    "#normalizing the data with mean at 0 and standard deviation = 1 for all features\n",
    "def norm(x):\n",
    "  return (x - train_stats['mean']) / train_stats['std']\n",
    "\n",
    "normed_X_train = norm(X_train)\n",
    "normed_X_test = norm(X_test)"
   ]
  },
  {
   "cell_type": "code",
   "execution_count": 3,
   "metadata": {
    "scrolled": true
   },
   "outputs": [],
   "source": [
    "# Building the model - of 2 layers, \n",
    "n_cols = X_train.shape[1]\n",
    "\n",
    "\n"
   ]
  },
  {
   "cell_type": "code",
   "execution_count": 10,
   "metadata": {},
   "outputs": [
    {
     "name": "stdout",
     "output_type": "stream",
     "text": [
      "\n",
      "....................................................................................................\n",
      "....................................................................................................\n",
      "....................................................................................................\n",
      "....................................................................................................\n",
      "....................................................................................................\n",
      "....................................................................................................\n",
      "....................................................................................................\n",
      "....................................................................................................\n",
      "....................................................................................................\n",
      "...................................................................................................."
     ]
    }
   ],
   "source": [
    "t1 = time.time()\n",
    "model = keras.Sequential()\n",
    "model.add(Dense(64, activation='relu', input_shape = (n_cols, )))\n",
    "model.add(Dense(64, activation='relu'))\n",
    "model.add(Dense(1))\n",
    "\n",
    "model.compile(optimizer='adam', loss='mean_absolute_percentage_error', metrics=['mean_absolute_error', 'mean_squared_error'])\n",
    "\n",
    "#training the model for 1000 epochs and for each epoch, printing a dot(directly taken from the tensor flow example)\n",
    "class PrintDot(keras.callbacks.Callback):\n",
    "  def on_epoch_end(self, epoch, logs):\n",
    "    if epoch % 100 == 0: print('')\n",
    "    print('.', end='')\n",
    "\n",
    "EPOCHS = \n",
    "\n",
    "history = model.fit(\n",
    "  normed_X_train.values, y_train.values, validation_split = 0.2, epochs=EPOCHS, verbose = 0, callbacks = [PrintDot()])\n",
    "\n",
    "t2 = time.time()"
   ]
  },
  {
   "cell_type": "code",
   "execution_count": 11,
   "metadata": {},
   "outputs": [
    {
     "name": "stdout",
     "output_type": "stream",
     "text": [
      "99.7083580493927\n"
     ]
    }
   ],
   "source": [
    "print(str(t2-t1))\n"
   ]
  },
  {
   "cell_type": "code",
   "execution_count": 12,
   "metadata": {
    "scrolled": false
   },
   "outputs": [
    {
     "data": {
      "text/html": [
       "<div>\n",
       "<style scoped>\n",
       "    .dataframe tbody tr th:only-of-type {\n",
       "        vertical-align: middle;\n",
       "    }\n",
       "\n",
       "    .dataframe tbody tr th {\n",
       "        vertical-align: top;\n",
       "    }\n",
       "\n",
       "    .dataframe thead th {\n",
       "        text-align: right;\n",
       "    }\n",
       "</style>\n",
       "<table border=\"1\" class=\"dataframe\">\n",
       "  <thead>\n",
       "    <tr style=\"text-align: right;\">\n",
       "      <th></th>\n",
       "      <th>val_loss</th>\n",
       "      <th>val_mean_absolute_error</th>\n",
       "      <th>val_mean_squared_error</th>\n",
       "      <th>loss</th>\n",
       "      <th>mean_absolute_error</th>\n",
       "      <th>mean_squared_error</th>\n",
       "      <th>epoch</th>\n",
       "    </tr>\n",
       "  </thead>\n",
       "  <tbody>\n",
       "    <tr>\n",
       "      <th>995</th>\n",
       "      <td>1.876062</td>\n",
       "      <td>874.707406</td>\n",
       "      <td>1.456216e+06</td>\n",
       "      <td>1.847445</td>\n",
       "      <td>927.288602</td>\n",
       "      <td>1.642285e+06</td>\n",
       "      <td>995</td>\n",
       "    </tr>\n",
       "    <tr>\n",
       "      <th>996</th>\n",
       "      <td>1.829014</td>\n",
       "      <td>869.182209</td>\n",
       "      <td>1.443655e+06</td>\n",
       "      <td>1.862733</td>\n",
       "      <td>928.653830</td>\n",
       "      <td>1.646788e+06</td>\n",
       "      <td>996</td>\n",
       "    </tr>\n",
       "    <tr>\n",
       "      <th>997</th>\n",
       "      <td>1.853157</td>\n",
       "      <td>879.990637</td>\n",
       "      <td>1.482443e+06</td>\n",
       "      <td>1.853967</td>\n",
       "      <td>927.676317</td>\n",
       "      <td>1.636123e+06</td>\n",
       "      <td>997</td>\n",
       "    </tr>\n",
       "    <tr>\n",
       "      <th>998</th>\n",
       "      <td>1.832596</td>\n",
       "      <td>869.288394</td>\n",
       "      <td>1.445592e+06</td>\n",
       "      <td>1.852789</td>\n",
       "      <td>927.663578</td>\n",
       "      <td>1.639875e+06</td>\n",
       "      <td>998</td>\n",
       "    </tr>\n",
       "    <tr>\n",
       "      <th>999</th>\n",
       "      <td>1.850295</td>\n",
       "      <td>869.109424</td>\n",
       "      <td>1.437532e+06</td>\n",
       "      <td>1.855898</td>\n",
       "      <td>926.596764</td>\n",
       "      <td>1.640328e+06</td>\n",
       "      <td>999</td>\n",
       "    </tr>\n",
       "  </tbody>\n",
       "</table>\n",
       "</div>"
      ],
      "text/plain": [
       "     val_loss  val_mean_absolute_error  val_mean_squared_error      loss  \\\n",
       "995  1.876062               874.707406            1.456216e+06  1.847445   \n",
       "996  1.829014               869.182209            1.443655e+06  1.862733   \n",
       "997  1.853157               879.990637            1.482443e+06  1.853967   \n",
       "998  1.832596               869.288394            1.445592e+06  1.852789   \n",
       "999  1.850295               869.109424            1.437532e+06  1.855898   \n",
       "\n",
       "     mean_absolute_error  mean_squared_error  epoch  \n",
       "995           927.288602        1.642285e+06    995  \n",
       "996           928.653830        1.646788e+06    996  \n",
       "997           927.676317        1.636123e+06    997  \n",
       "998           927.663578        1.639875e+06    998  \n",
       "999           926.596764        1.640328e+06    999  "
      ]
     },
     "execution_count": 12,
     "metadata": {},
     "output_type": "execute_result"
    }
   ],
   "source": [
    "#printing the losses\n",
    "hist = pd.DataFrame(history.history)\n",
    "hist['epoch'] = history.epoch\n",
    "hist.tail()"
   ]
  },
  {
   "cell_type": "code",
   "execution_count": 13,
   "metadata": {},
   "outputs": [],
   "source": [
    "#prediction using X_test to get values corresponding to y_test\n",
    "predictions = model.predict(normed_X_test)"
   ]
  },
  {
   "cell_type": "code",
   "execution_count": 14,
   "metadata": {
    "scrolled": false
   },
   "outputs": [
    {
     "data": {
      "text/plain": [
       "(0, 71838.82628499887)"
      ]
     },
     "execution_count": 14,
     "metadata": {},
     "output_type": "execute_result"
    },
    {
     "data": {
      "image/png": "[encoded data removed]",
      "text/plain": [
       "<Figure size 432x288 with 1 Axes>"
      ]
     },
     "metadata": {
      "needs_background": "light"
     },
     "output_type": "display_data"
    }
   ],
   "source": [
    "#plotting actual values vs the predicted values. The curve being a straight line show good accuracy i guess\n",
    "plt.scatter(y_test, predictions)\n",
    "plt.xlabel('True Values [EPV]')\n",
    "plt.ylabel('Predictions [EPV]')\n",
    "\n",
    "plt.xlim([0,plt.xlim()[1]])\n",
    "plt.ylim([0,plt.ylim()[1]])\n",
    "\n"
   ]
  },
  {
   "cell_type": "code",
   "execution_count": 15,
   "metadata": {},
   "outputs": [],
   "source": [
    "def plot_history(history):\n",
    "  hist = pd.DataFrame(history.history)\n",
    "  hist['epoch'] = history.epoch\n",
    "  \n",
    "  plt.figure()\n",
    "  plt.xlabel('Epoch')\n",
    "  plt.ylabel('Mean Abs Error [MPG]')\n",
    "  plt.plot(hist['epoch'], hist['mean_absolute_error'],\n",
    "           label='Train Error')\n",
    "  plt.plot(hist['epoch'], hist['val_mean_absolute_error'],\n",
    "           label = 'Val Error')\n",
    "  plt.ylim([0,1500])\n",
    "  plt.legend()\n",
    "  \n",
    "  plt.figure()\n",
    "  plt.xlabel('Epoch')\n",
    "  plt.ylabel('Mean Square Error [$MPG^2$]')\n",
    "  plt.plot(hist['epoch'], hist['mean_squared_error'],\n",
    "           label='Train Error')\n",
    "  plt.plot(hist['epoch'], hist['val_mean_squared_error'],\n",
    "           label = 'Val Error')\n",
    "  plt.ylim([0, 40.0e+05])\n",
    "  plt.legend()\n",
    "  plt.show()"
   ]
  },
  {
   "cell_type": "code",
   "execution_count": 16,
   "metadata": {},
   "outputs": [
    {
     "data": {
      "image/png": "[encoded data removed]",
      "text/plain": [
       "<Figure size 432x288 with 1 Axes>"
      ]
     },
     "metadata": {
      "needs_background": "light"
     },
     "output_type": "display_data"
    },
    {
     "data": {
      "image/png": "[encoded data removed]",
      "text/plain": [
       "<Figure size 432x288 with 1 Axes>"
      ]
     },
     "metadata": {
      "needs_background": "light"
     },
     "output_type": "display_data"
    }
   ],
   "source": [
    "plot_history(history)"
   ]
  }
 ],
 "metadata": {
  "kernelspec": {
   "display_name": "Python 3.6 (tensorflow)",
   "language": "python",
   "name": "tensorflow"
  },
  "language_info": {
   "codemirror_mode": {
    "name": "ipython",
    "version": 3
   },
   "file_extension": ".py",
   "mimetype": "text/x-python",
   "name": "python",
   "nbconvert_exporter": "python",
   "pygments_lexer": "ipython3",
   "version": "3.6.8"
  }
 },
 "nbformat": 4,
 "nbformat_minor": 2
}
